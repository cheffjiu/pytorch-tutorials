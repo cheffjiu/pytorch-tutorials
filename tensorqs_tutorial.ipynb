{
  "cells": [
    {
      "cell_type": "markdown",
      "metadata": {
        "id": "view-in-github",
        "colab_type": "text"
      },
      "source": [
        "<a href=\"https://colab.research.google.com/github/cheffjiu/pytorch-tutorials/blob/main/tensorqs_tutorial.ipynb\" target=\"_parent\"><img src=\"https://colab.research.google.com/assets/colab-badge.svg\" alt=\"Open In Colab\"/></a>"
      ]
    },
    {
      "cell_type": "code",
      "execution_count": null,
      "metadata": {
        "id": "9Ke5-P5X4AAi"
      },
      "outputs": [],
      "source": [
        "# For tips on running notebooks in Google Colab, see\n",
        "# https://pytorch.org/tutorials/beginner/colab\n",
        "%matplotlib inline"
      ]
    },
    {
      "cell_type": "markdown",
      "metadata": {
        "id": "djAD-3_T4AAj"
      },
      "source": [
        "[Learn the Basics](intro.html) \\|\\|\n",
        "[Quickstart](quickstart_tutorial.html) \\|\\| **Tensors** \\|\\| [Datasets &\n",
        "DataLoaders](data_tutorial.html) \\|\\|\n",
        "[Transforms](transforms_tutorial.html) \\|\\| [Build\n",
        "Model](buildmodel_tutorial.html) \\|\\|\n",
        "[Autograd](autogradqs_tutorial.html) \\|\\|\n",
        "[Optimization](optimization_tutorial.html) \\|\\| [Save & Load\n",
        "Model](saveloadrun_tutorial.html)\n",
        "\n",
        "Tensors（张量）\n",
        "=======\n",
        "\n",
        "张量是一种特殊的数据结构，与数组和矩阵非常相似。在PyTorch中，我们使用张量对模型的输入、输出以及模型参数进行编码。    \n",
        "\n",
        "张量与 [NumPy](https://numpy.org/) 的多维数组类似，不同的是张量可以在GPU或其他硬件加速器上运行。实际上，张量和NumPy数组常常可以共享相同的底层内存，无需复制数据。  (see\n",
        "`bridge-to-np-label`). 张量还针对自动求导进行了优化(我们会在 [Autograd](autogradqs_tutorial.html)这一节学习). 如果你熟悉`ndarray`，那么使用张量API会得心应手。如果不熟悉，那就继续学习吧！\n"
      ]
    },
    {
      "cell_type": "code",
      "execution_count": null,
      "metadata": {
        "id": "uu5RqKCd4AAk"
      },
      "outputs": [],
      "source": [
        "import torch\n",
        "import numpy as np"
      ]
    },
    {
      "cell_type": "markdown",
      "metadata": {
        "id": "lOmPAtXk4AAk"
      },
      "source": [
        "Initializing a Tensor（初始化张量）\n",
        "=====================\n",
        "\n",
        "张量可以通过多种方式初始化。请看以下示例：\n",
        "\n",
        "**直接从数据创建**\n",
        "\n",
        "张量可以直接从数据创建。数据类型会自动推断。\n"
      ]
    },
    {
      "cell_type": "code",
      "execution_count": null,
      "metadata": {
        "id": "-j07Oc734AAk"
      },
      "outputs": [],
      "source": [
        "data = [[1, 2],[3, 4]]\n",
        "x_data = torch.tensor(data)"
      ]
    },
    {
      "cell_type": "markdown",
      "metadata": {
        "id": "9sV8ArG84AAl"
      },
      "source": [
        "**从NumPy数组创建**\n",
        "\n",
        "张量可以从NumPy数组创建 (反之亦然 - 见\n",
        "`bridge-to-np-label`).\n"
      ]
    },
    {
      "cell_type": "code",
      "execution_count": null,
      "metadata": {
        "id": "qc6wJuCS4AAl"
      },
      "outputs": [],
      "source": [
        "np_array = np.array(data)\n",
        "x_np = torch.from_numpy(np_array)"
      ]
    },
    {
      "cell_type": "markdown",
      "metadata": {
        "id": "aZkDusau4AAl"
      },
      "source": [
        "**从另一个张量创建:**\n",
        "\n",
        "除非显式覆盖，否则新张量将保留源张量的属性（形状、数据类型）。"
      ]
    },
    {
      "cell_type": "code",
      "execution_count": null,
      "metadata": {
        "id": "7-uvmAQV4AAl"
      },
      "outputs": [],
      "source": [
        "x_ones = torch.ones_like(x_data) # retains the properties of x_data\n",
        "print(f\"Ones Tensor: \\n {x_ones} \\n\")\n",
        "\n",
        "x_rand = torch.rand_like(x_data, dtype=torch.float) # overrides the datatype of x_data\n",
        "print(f\"Random Tensor: \\n {x_rand} \\n\")"
      ]
    },
    {
      "cell_type": "markdown",
      "metadata": {
        "id": "LudAwEo44AAl"
      },
      "source": [
        "**使用随机值或常量值创建:**\n",
        "\n",
        "`shape`是张量维度的元组。在以下函数中，它决定了输出张量的维度。.\n"
      ]
    },
    {
      "cell_type": "code",
      "execution_count": null,
      "metadata": {
        "id": "vkCWlxGX4AAl"
      },
      "outputs": [],
      "source": [
        "shape = (2,3,)\n",
        "rand_tensor = torch.rand(shape)\n",
        "ones_tensor = torch.ones(shape)\n",
        "zeros_tensor = torch.zeros(shape)\n",
        "\n",
        "print(f\"Random Tensor: \\n {rand_tensor} \\n\")\n",
        "print(f\"Ones Tensor: \\n {ones_tensor} \\n\")\n",
        "print(f\"Zeros Tensor: \\n {zeros_tensor}\")"
      ]
    },
    {
      "cell_type": "markdown",
      "metadata": {
        "id": "0qfUF1lf4AAm"
      },
      "source": [
        "------------------------------------------------------------------------\n"
      ]
    },
    {
      "cell_type": "markdown",
      "metadata": {
        "id": "oGRWP8W-4AAm"
      },
      "source": [
        "Attributes of a Tensor（张量的属性）\n",
        "======================\n",
        "\n",
        "张量属性描述了它们的形状、数据类型以及存储它们的设备。"
      ]
    },
    {
      "cell_type": "code",
      "execution_count": null,
      "metadata": {
        "id": "MkZdEW8U4AAm"
      },
      "outputs": [],
      "source": [
        "tensor = torch.rand(3,4)\n",
        "\n",
        "print(f\"Shape of tensor: {tensor.shape}\")\n",
        "print(f\"Datatype of tensor: {tensor.dtype}\")\n",
        "print(f\"Device tensor is stored on: {tensor.device}\")"
      ]
    },
    {
      "cell_type": "markdown",
      "metadata": {
        "id": "8NvKujAU4AAm"
      },
      "source": [
        "------------------------------------------------------------------------\n"
      ]
    },
    {
      "cell_type": "markdown",
      "metadata": {
        "id": "LN_veDff4AAm"
      },
      "source": [
        "Operations on Tensors（张量的操作）\n",
        "=====================\n",
        "\n",
        "1200 多种张量运算，包括算术运算、线性代数、矩阵操作（转置、索引、切片）、采样等，都有全面的描述\n",
        "[here](https://pytorch.org/docs/stable/torch.html).\n",
        "\n",
        "这些操作中的每一项都可以在 CPU 以及诸如 CUDA、MPS、MTIA 或 XPU 等[加速器](https://pytorch.org/docs/stable/torch.html#accelerators)上运行。如果你使用的是 Colab，可以通过依次点击“运行时”>“更改运行时类型”>“GPU”来分配一个加速器。.\n",
        "\n",
        "默认情况下，张量在CPU上创建。我们需要在检查加速器可用性之后，使用`.to`方法显式地将张量移动到加速器上。请记住，跨设备复制大型张量在时间和内存方面开销可能很大！"
      ]
    },
    {
      "cell_type": "code",
      "execution_count": null,
      "metadata": {
        "id": "RgAO4BSn4AAm"
      },
      "outputs": [],
      "source": [
        "# We move our tensor to the current accelerator if available\n",
        "if torch.accelerator.is_available():\n",
        "    tensor = tensor.to(torch.accelerator.current_accelerator())"
      ]
    },
    {
      "cell_type": "markdown",
      "metadata": {
        "id": "opDj2bLO4AAm"
      },
      "source": [
        "尝试以下的一些操作。如果你熟悉NumPy API，那么使用Tensor API对你来说将轻而易举。"
      ]
    },
    {
      "cell_type": "markdown",
      "metadata": {
        "id": "HvuJ4DDz4AAm"
      },
      "source": [
        "**标准的类似NumPy的索引和切片操作:**\n"
      ]
    },
    {
      "cell_type": "code",
      "execution_count": null,
      "metadata": {
        "id": "O5aJsp0C4AAm"
      },
      "outputs": [],
      "source": [
        "tensor = torch.ones(4, 4)\n",
        "print(f\"First row: {tensor[0]}\")\n",
        "print(f\"First column: {tensor[:, 0]}\")\n",
        "print(f\"Last column: {tensor[..., -1]}\")\n",
        "tensor[:,1] = 0\n",
        "print(tensor)"
      ]
    },
    {
      "cell_type": "markdown",
      "metadata": {
        "id": "IBIORGAL4AAm"
      },
      "source": [
        "**连接张量** 你可以使用 `torch.cat` 沿着给定维度连接一系列张量。另请参阅 [torch.stack](https://pytorch.org/docs/stable/generated/torch.stack.html)，这是另一个与 `torch.cat` 略有不同的张量连接操作符。\n"
      ]
    },
    {
      "cell_type": "code",
      "execution_count": null,
      "metadata": {
        "id": "QzWMJU434AAm"
      },
      "outputs": [],
      "source": [
        "t1 = torch.cat([tensor, tensor, tensor], dim=1)\n",
        "print(t1)"
      ]
    },
    {
      "cell_type": "markdown",
      "metadata": {
        "id": "QQdzoNEn4AAm"
      },
      "source": [
        "**代数运算**\n"
      ]
    },
    {
      "cell_type": "code",
      "execution_count": null,
      "metadata": {
        "id": "SdcQMxoQ4AAm"
      },
      "outputs": [],
      "source": [
        "# This computes the matrix multiplication（矩阵乘法） between two tensors. y1, y2, y3 will have the same value\n",
        "# ``tensor.T`` returns the transpose（转置） of a tensor\n",
        "y1 = tensor @ tensor.T #@和matmul都是做矩阵乘法\n",
        "y2 = tensor.matmul(tensor.T)\n",
        "\n",
        "y3 = torch.rand_like(y1)\n",
        "torch.matmul(tensor, tensor.T, out=y3)\n",
        "\n",
        "\n",
        "# This computes the element-wise product（对位元素相乘）. z1, z2, z3 will have the same value\n",
        "z1 = tensor * tensor\n",
        "z2 = tensor.mul(tensor)\n",
        "\n",
        "z3 = torch.rand_like(tensor)\n",
        "torch.mul(tensor, tensor, out=z3)"
      ]
    },
    {
      "cell_type": "markdown",
      "metadata": {
        "id": "yBtGMhr24AAm"
      },
      "source": [
        "**单元素张量** 如果你有一个单元素张量，例如通过将张量的所有值聚合为一个值，你可以使用 `item()` 将其转换为Python数值："
      ]
    },
    {
      "cell_type": "code",
      "execution_count": null,
      "metadata": {
        "id": "3IkQ-l8j4AAn"
      },
      "outputs": [],
      "source": [
        "agg = tensor.sum()\n",
        "agg_item = agg.item()\n",
        "print(agg_item, type(agg_item))"
      ]
    },
    {
      "cell_type": "markdown",
      "metadata": {
        "id": "n4Vb15kl4AAn"
      },
      "source": [
        "**原地操作**：将结果存储到操作数中的操作称为原地操作。它们以 `_` 后缀表示。例如：`x.copy_(y)`、`x.t_()` 会改变 `x`。\n"
      ]
    },
    {
      "cell_type": "code",
      "execution_count": null,
      "metadata": {
        "id": "L1F-36TZ4AAn"
      },
      "outputs": [],
      "source": [
        "print(f\"{tensor} \\n\")\n",
        "tensor.add_(5)\n",
        "print(tensor)"
      ]
    },
    {
      "cell_type": "markdown",
      "metadata": {
        "id": "Eh0L2y9E4AAn"
      },
      "source": [
        "<div style=\"background-color: #54c7ec; color: #fff; font-weight: 700; padding-left: 10px; padding-top: 5px; padding-bottom: 5px\"><strong>NOTE:</strong></div>\n",
        "\n",
        "<div style=\"background-color: #f3f4f7; padding-left: 10px; padding-top: 10px; padding-bottom: 10px; padding-right: 10px\">\n",
        "\n",
        "<p>原地操作节省了一些内存，但在计算导数时可能会出现问题，因为会立即丢失历史信息。因此，不建议使用它们。</p>\n",
        "\n",
        "</div>\n",
        "\n"
      ]
    },
    {
      "cell_type": "markdown",
      "metadata": {
        "id": "bqurWgAX4AAn"
      },
      "source": [
        "------------------------------------------------------------------------\n"
      ]
    },
    {
      "cell_type": "markdown",
      "metadata": {
        "id": "ROpUJoZS4AAn"
      },
      "source": [
        "Bridge with NumPy {bridge-to-np-label}（与Numpy的联系）\n",
        "=================\n",
        "\n",
        "CPU 上的张量和 NumPy 数组可以共享它们的底层内存位置，改变其中一个会导致另一个也发生改变。\n"
      ]
    },
    {
      "cell_type": "markdown",
      "metadata": {
        "id": "7EI-jxok4AAn"
      },
      "source": [
        "张量转换为NumPy数组\n",
        "=====================\n"
      ]
    },
    {
      "cell_type": "code",
      "execution_count": null,
      "metadata": {
        "id": "5z-d9HVf4AAn"
      },
      "outputs": [],
      "source": [
        "t = torch.ones(5)\n",
        "print(f\"t: {t}\")\n",
        "n = t.numpy()\n",
        "print(f\"n: {n}\")"
      ]
    },
    {
      "cell_type": "markdown",
      "metadata": {
        "id": "gur5heeB4AAn"
      },
      "source": [
        "张量的变化会反映在NumPy数组中。\n"
      ]
    },
    {
      "cell_type": "code",
      "execution_count": null,
      "metadata": {
        "id": "DJiWy66a4AAn"
      },
      "outputs": [],
      "source": [
        "t.add_(1)\n",
        "print(f\"t: {t}\")\n",
        "print(f\"n: {n}\")"
      ]
    },
    {
      "cell_type": "markdown",
      "metadata": {
        "id": "GpKTLMKC4AAn"
      },
      "source": [
        "NumPy数组转张量\n",
        "=====================\n"
      ]
    },
    {
      "cell_type": "code",
      "execution_count": null,
      "metadata": {
        "id": "7QDBHSm24AAn"
      },
      "outputs": [],
      "source": [
        "n = np.ones(5)\n",
        "t = torch.from_numpy(n)"
      ]
    },
    {
      "cell_type": "markdown",
      "metadata": {
        "id": "7YVcOQJo4AAn"
      },
      "source": [
        "NumPy数组中的变化会反映在张量中。\n",
        "\n",
        "---\n",
        "\n",
        "\n"
      ]
    },
    {
      "cell_type": "code",
      "execution_count": null,
      "metadata": {
        "id": "tA-zvM2b4AAn"
      },
      "outputs": [],
      "source": [
        "np.add(n, 1, out=n)\n",
        "print(f\"t: {t}\")\n",
        "print(f\"n: {n}\")"
      ]
    },
    {
      "cell_type": "markdown",
      "source": [
        "补充：张量形状与维度的操作\n",
        "====================="
      ],
      "metadata": {
        "id": "J3oN1LxADAiW"
      }
    },
    {
      "cell_type": "markdown",
      "source": [
        "torch.view\n",
        "====================="
      ],
      "metadata": {
        "id": "RxFnMoOJDqqQ"
      }
    }
  ],
  "metadata": {
    "kernelspec": {
      "display_name": "Python 3",
      "language": "python",
      "name": "python3"
    },
    "language_info": {
      "codemirror_mode": {
        "name": "ipython",
        "version": 3
      },
      "file_extension": ".py",
      "mimetype": "text/x-python",
      "name": "python",
      "nbconvert_exporter": "python",
      "pygments_lexer": "ipython3",
      "version": "3.10.12"
    },
    "colab": {
      "provenance": [],
      "include_colab_link": true
    }
  },
  "nbformat": 4,
  "nbformat_minor": 0
}